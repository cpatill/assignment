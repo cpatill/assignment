{
 "cells": [
  {
   "cell_type": "code",
   "execution_count": 25,
   "id": "2838571f-70d3-4968-a26d-a6d43f468dd6",
   "metadata": {},
   "outputs": [],
   "source": [
    "##Q1. Create one variable containing following type of data:\n",
    "#(i) string\n",
    "s=('chandu is student')"
   ]
  },
  {
   "cell_type": "code",
   "execution_count": 2,
   "id": "3ef996ec-8f17-4772-acc0-1fddcdc3b518",
   "metadata": {},
   "outputs": [
    {
     "data": {
      "text/plain": [
       "str"
      ]
     },
     "execution_count": 2,
     "metadata": {},
     "output_type": "execute_result"
    }
   ],
   "source": [
    "type(s)"
   ]
  },
  {
   "cell_type": "code",
   "execution_count": 26,
   "id": "637b2472-c387-45f8-81d8-0c765720aba3",
   "metadata": {},
   "outputs": [],
   "source": [
    "#(ii) list\n",
    "l=[1,3,8,'ch',True]"
   ]
  },
  {
   "cell_type": "code",
   "execution_count": 4,
   "id": "018057f1-8ace-4100-8c35-2fef619a1e0e",
   "metadata": {},
   "outputs": [
    {
     "data": {
      "text/plain": [
       "list"
      ]
     },
     "execution_count": 4,
     "metadata": {},
     "output_type": "execute_result"
    }
   ],
   "source": [
    "type(l)"
   ]
  },
  {
   "cell_type": "code",
   "execution_count": 28,
   "id": "65a3b6aa-a5d1-414c-a6bd-ed261f1ca2cc",
   "metadata": {},
   "outputs": [],
   "source": [
    "#(iii) float\n",
    "f=10.1"
   ]
  },
  {
   "cell_type": "code",
   "execution_count": 29,
   "id": "aeb85949-b297-4cc9-8f05-2f1ba07fa0e0",
   "metadata": {},
   "outputs": [
    {
     "data": {
      "text/plain": [
       "float"
      ]
     },
     "execution_count": 29,
     "metadata": {},
     "output_type": "execute_result"
    }
   ],
   "source": [
    "#(iv) tuple\n",
    "type(f)"
   ]
  },
  {
   "cell_type": "code",
   "execution_count": 8,
   "id": "46e321e3-4da6-4dd7-b271-939eefe68d90",
   "metadata": {},
   "outputs": [],
   "source": [
    "t=(10,5,True,)"
   ]
  },
  {
   "cell_type": "code",
   "execution_count": 10,
   "id": "1d38f8e6-de6c-46d7-8655-599c4a76990e",
   "metadata": {},
   "outputs": [
    {
     "data": {
      "text/plain": [
       "tuple"
      ]
     },
     "execution_count": 10,
     "metadata": {},
     "output_type": "execute_result"
    }
   ],
   "source": [
    "type(t)"
   ]
  },
  {
   "cell_type": "code",
   "execution_count": 30,
   "id": "40f2bdef-afa1-43a3-a133-3deb55108984",
   "metadata": {},
   "outputs": [],
   "source": [
    "#Q2. Given are some following variables containing data:\n",
    "#What will be the data type of the above given variable.\n",
    "var1=''"
   ]
  },
  {
   "cell_type": "code",
   "execution_count": 12,
   "id": "4b261ad8-66d3-49d5-b310-6dc88973f9c9",
   "metadata": {},
   "outputs": [
    {
     "data": {
      "text/plain": [
       "str"
      ]
     },
     "execution_count": 12,
     "metadata": {},
     "output_type": "execute_result"
    }
   ],
   "source": [
    "type(var1)"
   ]
  },
  {
   "cell_type": "code",
   "execution_count": 13,
   "id": "afabad68-a03f-4e74-b48a-c2c0b23ed5c7",
   "metadata": {},
   "outputs": [],
   "source": [
    "var2 = '[ DS , ML , Python]'"
   ]
  },
  {
   "cell_type": "code",
   "execution_count": 14,
   "id": "b788457e-618c-42a6-af4a-21921d694002",
   "metadata": {},
   "outputs": [
    {
     "data": {
      "text/plain": [
       "str"
      ]
     },
     "execution_count": 14,
     "metadata": {},
     "output_type": "execute_result"
    }
   ],
   "source": [
    "type(var2)"
   ]
  },
  {
   "cell_type": "code",
   "execution_count": 15,
   "id": "5ffe5bd0-2f34-4d08-9a95-1aba4d146a18",
   "metadata": {},
   "outputs": [],
   "source": [
    "var3 = [ 'DS' , 'ML' , 'Python' ]"
   ]
  },
  {
   "cell_type": "code",
   "execution_count": 16,
   "id": "d5870018-a8b3-454a-9b5a-33541f9393f8",
   "metadata": {},
   "outputs": [
    {
     "data": {
      "text/plain": [
       "list"
      ]
     },
     "execution_count": 16,
     "metadata": {},
     "output_type": "execute_result"
    }
   ],
   "source": [
    "type(var3)"
   ]
  },
  {
   "cell_type": "code",
   "execution_count": 3,
   "id": "4ca802c2-827b-4fd3-a8f9-835e197857d8",
   "metadata": {},
   "outputs": [],
   "source": [
    "var4 = 1."
   ]
  },
  {
   "cell_type": "code",
   "execution_count": 4,
   "id": "17997554-c8f3-450f-a921-da9cda8aeb7c",
   "metadata": {},
   "outputs": [
    {
     "data": {
      "text/plain": [
       "float"
      ]
     },
     "execution_count": 4,
     "metadata": {},
     "output_type": "execute_result"
    }
   ],
   "source": [
    "type(var4)"
   ]
  },
  {
   "cell_type": "code",
   "execution_count": 17,
   "id": "7b7c5e0c-1ac7-4907-9b53-cd620631bc52",
   "metadata": {},
   "outputs": [
    {
     "data": {
      "text/plain": [
       "5.0"
      ]
     },
     "execution_count": 17,
     "metadata": {},
     "output_type": "execute_result"
    }
   ],
   "source": [
    "10/2"
   ]
  },
  {
   "cell_type": "code",
   "execution_count": 19,
   "id": "1d1654f4-acbf-4f12-89e7-23bc7c09c55f",
   "metadata": {},
   "outputs": [
    {
     "data": {
      "text/plain": [
       "2"
      ]
     },
     "execution_count": 19,
     "metadata": {},
     "output_type": "execute_result"
    }
   ],
   "source": [
    "20%3"
   ]
  },
  {
   "cell_type": "code",
   "execution_count": 20,
   "id": "e02b5134-5cd2-4d77-acb4-7c2025ca4ce6",
   "metadata": {},
   "outputs": [
    {
     "data": {
      "text/plain": [
       "4"
      ]
     },
     "execution_count": 20,
     "metadata": {},
     "output_type": "execute_result"
    }
   ],
   "source": [
    "20//5\n"
   ]
  },
  {
   "cell_type": "code",
   "execution_count": 21,
   "id": "180fc0ec-47b9-47f2-a73b-fc1aeb7777b8",
   "metadata": {},
   "outputs": [
    {
     "data": {
      "text/plain": [
       "4"
      ]
     },
     "execution_count": 21,
     "metadata": {},
     "output_type": "execute_result"
    }
   ],
   "source": [
    "2**2"
   ]
  },
  {
   "cell_type": "code",
   "execution_count": 25,
   "id": "df3d63e0-1bd5-4795-b900-7b04fe7b715f",
   "metadata": {},
   "outputs": [],
   "source": [
    "l=[10,3.0,True,3+5j,'god',30,50,50,70,5.6]"
   ]
  },
  {
   "cell_type": "code",
   "execution_count": 26,
   "id": "d916acf0-dbaa-46f2-b5a5-6b7573b0a93a",
   "metadata": {},
   "outputs": [
    {
     "data": {
      "text/plain": [
       "10"
      ]
     },
     "execution_count": 26,
     "metadata": {},
     "output_type": "execute_result"
    }
   ],
   "source": [
    "len(l)"
   ]
  },
  {
   "cell_type": "code",
   "execution_count": 5,
   "id": "c89eaf3c-244b-425d-bbac-de94081b80b3",
   "metadata": {},
   "outputs": [
    {
     "name": "stdout",
     "output_type": "stream",
     "text": [
      "10 <class 'int'>\n",
      "3.0 <class 'float'>\n",
      "True <class 'bool'>\n",
      "(3+5j) <class 'complex'>\n",
      "god <class 'str'>\n",
      "30 <class 'int'>\n",
      "50 <class 'int'>\n",
      "50 <class 'int'>\n",
      "70 <class 'int'>\n",
      "5.6 <class 'float'>\n"
     ]
    }
   ],
   "source": [
    "#Q4. Create a list of length 10 of your choice containing multiple types of data. Using for loop print the\n",
    "#element and its data type.\n",
    "l=[10,3.0,True,3+5j,'god',30,50,50,70,5.6]\n",
    "for i in l:\n",
    "    print(i,type(i))"
   ]
  },
  {
   "cell_type": "code",
   "execution_count": 6,
   "id": "db77df70-8470-484e-8939-b757435e4c48",
   "metadata": {},
   "outputs": [
    {
     "name": "stdout",
     "output_type": "stream",
     "text": [
      "Divisible by 5 times\n"
     ]
    }
   ],
   "source": [
    "##Q5. Using a while loop, verify if the number A is purely divisible by number B and if so then how many\n",
    "#times it can be divisible\n",
    "A=70\n",
    "B=14\n",
    "t=0\n",
    "while A>=0:\n",
    "    prev_A=A\n",
    "    A=A-B\n",
    "    t+=1\n",
    "t-=1\n",
    "if prev_A==0:\n",
    "    print(\"Divisible by\",t,\"times\")\n",
    "else:\n",
    "\n",
    "    print(\"Not divisible\")"
   ]
  },
  {
   "cell_type": "code",
   "execution_count": 17,
   "id": "c923ca3a-f07f-4097-9382-5d20c1507ede",
   "metadata": {},
   "outputs": [
    {
     "data": {
      "text/plain": [
       "25"
      ]
     },
     "execution_count": 17,
     "metadata": {},
     "output_type": "execute_result"
    }
   ],
   "source": [
    "len(l)"
   ]
  },
  {
   "cell_type": "code",
   "execution_count": 7,
   "id": "714dc220-5541-4aca-a7d0-163c65e9f05a",
   "metadata": {},
   "outputs": [
    {
     "name": "stdout",
     "output_type": "stream",
     "text": [
      "element is not divisible by 3\n",
      "element is divisible by 3\n",
      "element is not divisible by 3\n",
      "element is not divisible by 3\n",
      "element is not divisible by 3\n",
      "element is not divisible by 3\n",
      "element is not divisible by 3\n",
      "element is not divisible by 3\n",
      "element is divisible by 3\n",
      "element is not divisible by 3\n",
      "element is not divisible by 3\n",
      "element is not divisible by 3\n",
      "element is not divisible by 3\n",
      "element is not divisible by 3\n",
      "element is not divisible by 3\n",
      "element is not divisible by 3\n",
      "element is not divisible by 3\n",
      "element is not divisible by 3\n",
      "element is not divisible by 3\n",
      "element is not divisible by 3\n",
      "element is not divisible by 3\n",
      "element is divisible by 3\n",
      "element is divisible by 3\n",
      "element is divisible by 3\n",
      "element is not divisible by 3\n"
     ]
    }
   ],
   "source": [
    "#Q6.Create a list containing 25 int type data. Using for loop and if-else condition print if the element is\n",
    "#divisible by 3 or not.\n",
    "l=[55,66,8,5,4,5,20,38,6,4,5,5,8,2,8,2,5,88,44,22,7,9,15,18,23]\n",
    "for i in l:\n",
    "    if i%3==0:\n",
    "        print('element is divisible by 3')\n",
    "    else:\n",
    "        print('element is not divisible by 3')"
   ]
  },
  {
   "cell_type": "code",
   "execution_count": 11,
   "id": "a1a0a3f9-3c72-425c-88ae-4abcced239a8",
   "metadata": {},
   "outputs": [],
   "source": [
    "##Q7. What do you understand about mutable and immutable data types? Give examples for both showi#ng\n",
    "#this property."
   ]
  },
  {
   "cell_type": "code",
   "execution_count": 12,
   "id": "10df5978-88f9-47ec-a4bd-bd5d771506b5",
   "metadata": {},
   "outputs": [],
   "source": [
    "#mutable means value can be reassigned\n",
    "#list is mutable\n",
    "l=[10,3.0,True,3+5j,'god',30,50,50,70,5.6]"
   ]
  },
  {
   "cell_type": "code",
   "execution_count": 18,
   "id": "b706b524-f211-4909-8bf3-799a6205fc93",
   "metadata": {},
   "outputs": [],
   "source": [
    "l[0]=20"
   ]
  },
  {
   "cell_type": "code",
   "execution_count": 19,
   "id": "e1e8753c-5d40-4df9-aa97-b36813c494e6",
   "metadata": {},
   "outputs": [
    {
     "data": {
      "text/plain": [
       "[20, 3.0, True, (3+5j), 'god', 30, 50, 50, 70, 5.6]"
      ]
     },
     "execution_count": 19,
     "metadata": {},
     "output_type": "execute_result"
    }
   ],
   "source": [
    "l"
   ]
  },
  {
   "cell_type": "code",
   "execution_count": 45,
   "id": "358bbbac-bc55-457b-928a-6aeb779e9a96",
   "metadata": {},
   "outputs": [],
   "source": [
    "#immutable means value cannot be reassigned\n",
    "#tuple is immutable\n",
    "s=('bbkkkkkkk','25')"
   ]
  },
  {
   "cell_type": "code",
   "execution_count": 41,
   "id": "9a5862b4-6d62-4df9-83a4-fa053095898b",
   "metadata": {},
   "outputs": [
    {
     "data": {
      "text/plain": [
       "'bbkkkkkkk'"
      ]
     },
     "execution_count": 41,
     "metadata": {},
     "output_type": "execute_result"
    }
   ],
   "source": [
    "s"
   ]
  },
  {
   "cell_type": "code",
   "execution_count": 46,
   "id": "5e934bb7-e55d-44bf-ad7a-92a07f5fc41b",
   "metadata": {},
   "outputs": [
    {
     "data": {
      "text/plain": [
       "tuple"
      ]
     },
     "execution_count": 46,
     "metadata": {},
     "output_type": "execute_result"
    }
   ],
   "source": [
    "type(s)"
   ]
  },
  {
   "cell_type": "code",
   "execution_count": 49,
   "id": "08fc2b8c-4bd0-47e3-95ce-f51f23cf7476",
   "metadata": {},
   "outputs": [
    {
     "ename": "TypeError",
     "evalue": "'tuple' object does not support item assignment",
     "output_type": "error",
     "traceback": [
      "\u001b[0;31m---------------------------------------------------------------------------\u001b[0m",
      "\u001b[0;31mTypeError\u001b[0m                                 Traceback (most recent call last)",
      "Cell \u001b[0;32mIn[49], line 1\u001b[0m\n\u001b[0;32m----> 1\u001b[0m \u001b[43ms\u001b[49m\u001b[43m[\u001b[49m\u001b[38;5;241;43m0\u001b[39;49m\u001b[43m]\u001b[49m\u001b[38;5;241m=\u001b[39m(\u001b[38;5;124m'\u001b[39m\u001b[38;5;124mdhfn\u001b[39m\u001b[38;5;124m'\u001b[39m)\n",
      "\u001b[0;31mTypeError\u001b[0m: 'tuple' object does not support item assignment"
     ]
    }
   ],
   "source": [
    "s[0]=('dhfn')"
   ]
  },
  {
   "cell_type": "code",
   "execution_count": 50,
   "id": "bdbd1ee4-d44a-4595-852c-01160b33f7f8",
   "metadata": {},
   "outputs": [],
   "source": [
    "g=('hjvhvj')"
   ]
  },
  {
   "cell_type": "code",
   "execution_count": 51,
   "id": "e0e5191a-bc5a-45b9-b71a-7b1a002f3706",
   "metadata": {},
   "outputs": [
    {
     "data": {
      "text/plain": [
       "'hjvhvj'"
      ]
     },
     "execution_count": 51,
     "metadata": {},
     "output_type": "execute_result"
    }
   ],
   "source": [
    "g"
   ]
  },
  {
   "cell_type": "code",
   "execution_count": 52,
   "id": "48a485dd-a603-4f4a-85e3-0ddafd64c4b6",
   "metadata": {},
   "outputs": [
    {
     "data": {
      "text/plain": [
       "str"
      ]
     },
     "execution_count": 52,
     "metadata": {},
     "output_type": "execute_result"
    }
   ],
   "source": [
    "type(g)"
   ]
  },
  {
   "cell_type": "code",
   "execution_count": 55,
   "id": "55b4206d-eaca-428d-979f-5c156f773f61",
   "metadata": {},
   "outputs": [
    {
     "ename": "TypeError",
     "evalue": "'str' object does not support item assignment",
     "output_type": "error",
     "traceback": [
      "\u001b[0;31m---------------------------------------------------------------------------\u001b[0m",
      "\u001b[0;31mTypeError\u001b[0m                                 Traceback (most recent call last)",
      "Cell \u001b[0;32mIn[55], line 1\u001b[0m\n\u001b[0;32m----> 1\u001b[0m \u001b[43mg\u001b[49m\u001b[43m[\u001b[49m\u001b[38;5;241;43m2\u001b[39;49m\u001b[43m:\u001b[49m\u001b[38;5;241;43m4\u001b[39;49m\u001b[43m]\u001b[49m\u001b[38;5;241m=\u001b[39m(\u001b[38;5;124m'\u001b[39m\u001b[38;5;124mgv\u001b[39m\u001b[38;5;124m'\u001b[39m)\n",
      "\u001b[0;31mTypeError\u001b[0m: 'str' object does not support item assignment"
     ]
    }
   ],
   "source": [
    "g[2:4]=('gv')"
   ]
  },
  {
   "cell_type": "code",
   "execution_count": null,
   "id": "caec5aac-2e4a-44b4-8b25-8b14260bd049",
   "metadata": {},
   "outputs": [],
   "source": []
  }
 ],
 "metadata": {
  "kernelspec": {
   "display_name": "Python 3 (ipykernel)",
   "language": "python",
   "name": "python3"
  },
  "language_info": {
   "codemirror_mode": {
    "name": "ipython",
    "version": 3
   },
   "file_extension": ".py",
   "mimetype": "text/x-python",
   "name": "python",
   "nbconvert_exporter": "python",
   "pygments_lexer": "ipython3",
   "version": "3.10.8"
  }
 },
 "nbformat": 4,
 "nbformat_minor": 5
}
